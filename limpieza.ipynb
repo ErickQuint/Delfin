{
 "cells": [
  {
   "cell_type": "code",
   "execution_count": 60,
   "metadata": {},
   "outputs": [
    {
     "data": {
      "text/plain": [
       "1       93851\n",
       "2         809\n",
       "3         799\n",
       "4         707\n",
       "37        596\n",
       "5         508\n",
       "25        502\n",
       "7         458\n",
       "6         456\n",
       "8         451\n",
       "16        442\n",
       "60        404\n",
       "9         351\n",
       "10        345\n",
       "11        318\n",
       "12        315\n",
       "14        308\n",
       "18        298\n",
       "23        288\n",
       "30        276\n",
       "43        274\n",
       "15        268\n",
       "21        265\n",
       "20        261\n",
       "26        254\n",
       "19        251\n",
       "13        234\n",
       "122       231\n",
       "22        231\n",
       "17        229\n",
       "        ...  \n",
       "608        19\n",
       "489        19\n",
       "454        19\n",
       "301        19\n",
       "241        19\n",
       "522        19\n",
       "993        18\n",
       "477        18\n",
       "991        18\n",
       "963        18\n",
       "547        18\n",
       "487        18\n",
       "330        18\n",
       "658        18\n",
       "633        18\n",
       "136        18\n",
       "468        18\n",
       "1357       18\n",
       "535        18\n",
       "316        18\n",
       "171        18\n",
       "637        18\n",
       "2364       17\n",
       "194        15\n",
       "309        15\n",
       "424        11\n",
       "180         5\n",
       "405         5\n",
       "134         5\n",
       "687         5\n",
       "Name: loc, Length: 381, dtype: int64"
      ]
     },
     "execution_count": 60,
     "metadata": {},
     "output_type": "execute_result"
    }
   ],
   "source": [
    "import numpy as np\n",
    "import pandas as pd\n",
    "import matplotlib.pyplot as plt\n",
    "\n",
    "df = pd.read_csv('hola.csv', low_memory=False, encoding='latin')\n",
    "\n",
    "dic={7: 3, 4:1}\n",
    "\n",
    "#df_sdemt = df_sdemt_2014.replace(dic)\n",
    "\n",
    "df.head()\n",
    "df['loc'].value_counts()\n",
    "\n"
   ]
  },
  {
   "cell_type": "code",
   "execution_count": 38,
   "metadata": {},
   "outputs": [],
   "source": [
    "path_df_sdemt= 'C:/Users/Virginia Martinez/Desktop/Semestre 2018-1/hola.csv'\n",
    "df_sdemt.to_csv(path_df_sdemt, index=True, encoding='utf-8')"
   ]
  }
 ],
 "metadata": {
  "kernelspec": {
   "display_name": "Python 2",
   "language": "python",
   "name": "python2"
  },
  "language_info": {
   "codemirror_mode": {
    "name": "ipython",
    "version": 2
   },
   "file_extension": ".py",
   "mimetype": "text/x-python",
   "name": "python",
   "nbconvert_exporter": "python",
   "pygments_lexer": "ipython2",
   "version": "2.7.15"
  }
 },
 "nbformat": 4,
 "nbformat_minor": 2
}
